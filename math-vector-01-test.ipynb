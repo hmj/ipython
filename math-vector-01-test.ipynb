{
 "metadata": {
  "name": "",
  "signature": "sha256:4d6e0feb07f5a3931609551c223aec9a0f28dcdd05ac098eb4bc42fd59e954a6"
 },
 "nbformat": 3,
 "nbformat_minor": 0,
 "worksheets": [
  {
   "cells": [
    {
     "cell_type": "markdown",
     "metadata": {
      "slideshow": {
       "slide_type": "slide"
      }
     },
     "source": [
      "# \u6f14\u7fd2 \u30d9\u30af\u30c8\u30eb(Vector)\n",
      "\n",
      "## \u6570\u5f0f\u306e\u8868\u8a18\u306b\u3064\u3044\u3066\uff08\u30d9\u30af\u30c8\u30eb\u7de8\uff09\n",
      "\n",
      "\u3053\u306e\u8cc7\u6599\u306e\u5bfe\u8c61\u306f\u3001\u30d9\u30af\u30c8\u30eb\u3068\u3044\u3046\u3082\u306e\u3092\u6614\u7fd2\u3063\u305f\u3053\u3068\u304c\u3042\u308b\u4eba\u3067\u3059\u3002\n",
      "\n",
      "\u8a18\u6cd5\u306f\u5206\u91ce\u306b\u3088\u308a\u7570\u306a\u308a\u307e\u3059\u304c\u3001\u7279\u306b\u65ad\u308a\u304c\u306a\u3044\u5834\u5408\n",
      "\u30d9\u30af\u30c8\u30eb\u306f\u3001$ \\mathbf{x} $ \u306a\u3069\u306e\u592a\u5b57\u306e\u30ed\u30fc\u30de\u30f3\u4f53\u5c0f\u6587\u5b57\u3067\u8a18\u3057\u307e\u3059\u3002\n",
      "\n",
      "\u305d\u3057\u3066\u3059\u3079\u3066\u306e\u30d9\u30af\u30c8\u30eb\u306f**\u5217\u30d9\u30af\u30c8\u30eb**\u3068\u4eee\u5b9a\u3057\u307e\u3059\u3002\n",
      "\n",
      "\u4e0a\u4ed8\u304d\u306e T \u306f\u3001\u884c\u5217\u3084\u30d9\u30af\u30c8\u30eb\u306e\u8ee2\u7f6e\u3092\u8868\u3057\u307e\u3059\u3002\n",
      "\u3088\u3063\u3066\u3001$ \\mathbf{x}^{T} $ \u306f\u3001\u884c\u30d9\u30af\u30c8\u30eb\u3092\u610f\u5473\u3057\u307e\u3059\u3002\n",
      "\n",
      "\u5206\u91ce\u306b\u3088\u3063\u3066\u306f\u3001\u5217\u30d9\u30af\u30c8\u30eb\u3092 $ \\vec{x} $ \u306e\u3088\u3046\u306b\u8868\u73fe\u3059\u308b\u3053\u3068\u3082\u3042\u308a\u307e\u3059\u3002\n",
      "\u307e\u305f\u3001\u8ee2\u7f6e\u3092 T \u3067\u306f\u306a\u304f\u3001$ {}^t\\!\\mathbf{x}$ \u306e\u3088\u3046\u306b\u66f8\u304f\u3053\u3068\u3082\u3042\u308a\u307e\u3059\u3002\n",
      "\n",
      "\u30d9\u30af\u30c8\u30eb\u3092\u6210\u5206\u3092\u660e\u793a\u3057\u3066\u8a18\u8f09\u3059\u308b\u5834\u5408\u306f\u3001\n",
      "$$ \\mathbf{x} = \\begin{pmatrix} x_1 \\\\ x_2 \\\\ \\dots \\\\ x_n \\end{pmatrix} $$\n",
      "\u306e\u3088\u3046\u306b\u66f8\u304d\u307e\u3059\u3002\n",
      "\n",
      "\u307e\u305f\u6210\u5206\u306e\u6570\u304cn\u500b\u306e\u3068\u304d\u306e\u30d9\u30af\u30c8\u30eb\u3092**n\u6b21\u5143\u30d9\u30af\u30c8\u30eb**\u3068\u3044\u3044\u307e\u3059(\u6570\u5b66\u7684\u306b\u53b3\u5bc6\u3055\u3092\u3044\u3046\u3068\u30d9\u30af\u30c8\u30eb\u7a7a\u9593\u304c\u3042\u3063\u3066\u6b21\u5143\u304c\u3042\u308a\u307e\u3059\u304c\u3001\u4e00\u65e6\u53b3\u5bc6\u3055\u306f\u304a\u3044\u3066\u304a\u304d\u307e\u3057\u3087\u3046)\u3002\n",
      "\n",
      "\u4e0a\u8a18\u306e\u3088\u3046\u306b\u66f8\u304f\u3068\u7d19\u9762\u4e0a\u306e\u5e45\u3092\u3068\u308a\u307e\u3059\u306e\u3067\u3001$ \\mathbf{x} = (x_1, x_2, \\dots, x_n)^{T} $ \u3068\u66f8\u304f\u3053\u3068\u3082\u591a\u3044\u3067\u3059\u3002"
     ]
    },
    {
     "cell_type": "markdown",
     "metadata": {},
     "source": [
      "## Python \u3067\u30d9\u30af\u30c8\u30eb\u3092\u8868\u73fe\u3059\u308b\n",
      "\n",
      "Python\u306f\u6a19\u6e96\u3067\u306f\u30d9\u30af\u30c8\u30eb\u3084\u884c\u5217\u3092\u64cd\u4f5c\u3059\u308b\u30aa\u30d6\u30b8\u30a7\u30af\u30c8\u306f\u642d\u8f09\u3055\u308c\u3066\u3044\u307e\u305b\u3093\u3002\n",
      "\n",
      "\u30d9\u30af\u30c8\u30eb\u306e\u3088\u3046\u306a\u52d5\u4f5c\u3092\u3059\u308b\u30aa\u30d6\u30b8\u30a7\u30af\u30c8\u3092\u4f5c\u6210\u3059\u308b\u3053\u3068\u3082\u3067\u304d\u307e\u3059\u304c\u3001**NumPy**\u306e**array**\u30aa\u30d6\u30b8\u30a7\u30af\u30c8\u3092\u4f7f\u7528\u3059\u308b\u307b\u3046\u304c\u7c21\u5358\u3067\u3059\u3002\n",
      "[Numpy](http://www.numpy.org/)\n",
      "\n",
      "$$ \\mathbf{x} = (1, 2, 3)^{T} $$\n",
      "\n",
      "\u3092numpy\u3092\u4f7f\u3063\u3066\u8868\u73fe\u3057\u3066\u3001\u753b\u9762\u306b\u8868\u793a\u3057\u3066\u307f\u307e\u3057\u3087\u3046\u3002\n"
     ]
    },
    {
     "cell_type": "code",
     "collapsed": false,
     "input": [
      "\"\"\" \u3053\u306e\u30bb\u30eb\u306e\u30b5\u30f3\u30d7\u30eb\u30b3\u30fc\u30c9\u3092\u5b9f\u884c\u3057\u3066\u304f\u3060\u3055\u3044\n",
      "\"\"\"\n",
      "import numpy as np # numpy \u30d1\u30c3\u30b1\u30fc\u30b8\u3092import\u3057\u3066\u3001\u540d\u524d\u3092np\u3067\u547c\u3079\u308b\u3088\u3046\u306b\u3059\u308b\n",
      "\n",
      "x = np.array([1, 2, 3]) # numpy\u306earray\u30aa\u30d6\u30b8\u30a7\u30af\u30c8\u3092\u751f\u6210\u3057\u3001\u521d\u671f\u5024\u306b\u30d9\u30af\u30c8\u30eb\u6210\u5206\u306e1,2,3\u3092\u30ea\u30b9\u30c8\u578b\u3067\u6e21\u3059\n",
      "\n",
      "# \u7279\u306b array([1,2,3]) \u306f 1-3 \u578barray\u3068\u3082\u3044\u308f\u308c\u307e\u3059\u3002\n",
      "\n",
      "x # x \u3092\u8868\u793a"
     ],
     "language": "python",
     "metadata": {},
     "outputs": [
      {
       "metadata": {},
       "output_type": "pyout",
       "prompt_number": 10,
       "text": [
        "array([1, 2, 3])"
       ]
      }
     ],
     "prompt_number": 10
    },
    {
     "cell_type": "markdown",
     "metadata": {},
     "source": [
      "## \u30d9\u30af\u30c8\u30eb\u306e\u548c\u3001\u5dee\u3001\u5b9f\u6570\u500d\n",
      "\n",
      "2\u3064\u306e\u30d9\u30af\u30c8\u30eb $ \\mathbf{a}, \\mathbf{b} $ \u306b\u5bfe\u3057\u3066\u548c $ \\mathbf{a} + \\mathbf{b} $ \u304c\u3001\u30d9\u30af\u30c8\u30eb$ \\mathbf{a}$\u3068\u5b9f\u6570c\u306b\u5bfe\u3057\u3066\u30d9\u30af\u30c8\u30eb\u306e\u5b9f\u6570\u500d $ c \\mathbf{a} $\u304c\u8003\u3048\u3089\u308c\u307e\u3059\u3002\n",
      "\n",
      "\u6210\u5206\u3067\u8868\u793a\u3059\u308b\u3068\u3001\n",
      "\n",
      "$$\n",
      "\\mathbf{a} = (a_1, \\dots,  a_n)^T, \\mathbf{b} = (b_1, \\dots, b_n)^T \\\\\n",
      "\\mathbf{a} \\pm \\mathbf{b} = (a_1 \\pm b_1, \\dots, a_n \\pm b_n)^T \\\\\n",
      "c \\mathbf{a} = (c a_1, \\dots, c a_n)^T\n",
      "$$\n",
      "\n",
      "\u3068\u306a\u308a\u307e\u3059\u3002"
     ]
    },
    {
     "cell_type": "code",
     "collapsed": false,
     "input": [
      "a = np.array([1, 2])\n",
      "b = np.array([-1, 3])\n",
      "c = 10\n",
      "\n",
      "print \"vector a + vector b =\", a + b\n",
      "\n",
      "print \"scalar c * vector a =\", c * a"
     ],
     "language": "python",
     "metadata": {},
     "outputs": [
      {
       "output_type": "stream",
       "stream": "stdout",
       "text": [
        "vector a + vector b = [0 5]\n",
        "scalar c * vector a = [10 20]\n"
       ]
      }
     ],
     "prompt_number": 15
    },
    {
     "cell_type": "markdown",
     "metadata": {},
     "source": [
      "## \u5185\u7a4d\u3001\u5916\u7a4d\n",
      "\n",
      "\u5185\u7a4d(inner product)\u306f\u304b\u306a\u308a\u5965\u304c\u6df1\u3044\u3067\u3059\u304c\u3001\u3053\u3053\u3067\u306f\u4e00\u756a\u3088\u304f\u3064\u304b\u308f\u308c\u308b\u5b9a\u7fa9\u3092\u63a1\u7528\u3057\u307e\u3059\u3002\n",
      "\n",
      "\u30d9\u30af\u30c8\u30eb $ \\mathbf{a} = (a_1, \\dots, a_n)^T, \\mathbf{b} = (b_1, \\dots, b_n)^T $ \u306e\u5185\u7a4d\u306f\n",
      "$$ {\\displaystyle \\mathbf{a} \\cdot \\mathbf{b} \\equiv  \\sum_{i=1}^{n} a_i b_i } = a_1 b_1 + a_2 b_2 + \\dots + a_n b_n $$\n",
      "\u3068\u5b9a\u7fa9\u3055\u308c\u307e\u3059\u3002$\\equiv$\u306f\u5de6\u8fba\u3092\u53f3\u8fba\u3067\u5b9a\u7fa9\u3059\u308b\u610f\u5473\u3067\u4f7f\u308f\u308c\u308b\u6570\u5b66\u8a18\u53f7\u3067\u3059\u3002\n",
      "\u307e\u305f\u5185\u7a4d\u306f\u3001$ (\\mathbf{a}, \\mathbf{b}) $ \u3084 $ \\mathbf{a}^T \\mathbf{b} $ \u3068\u8a18\u8f09\u3055\u308c\u308b\u3053\u3068\u3082\u3042\u308a\u307e\u3059\u306e\u3067\u3001\u6ce8\u610f\u304c\u5fc5\u8981\u3067\u3059\u3002\n",
      "\n",
      "\u5916\u7a4d\u306f\u6a5f\u68b0\u5b66\u7fd2\u3067\u3042\u307e\u308a\u307f\u304b\u3051\u306a\u3044\u305f\u3081\u4eca\u56de\u306f\u5272\u611b\u3057\u307e\u3059\u3002\n"
     ]
    },
    {
     "cell_type": "markdown",
     "metadata": {},
     "source": [
      "### \u6f14\u7fd2\u554f\u984c 1\n",
      "\n",
      "\u5185\u7a4d\u3092\u8a08\u7b97\u3059\u308bPython\u306e\u95a2\u6570\u3092\u81ea\u4f5c\u3057\u3066\u307f\u307e\u3057\u3087\u3046\u3002"
     ]
    },
    {
     "cell_type": "code",
     "collapsed": false,
     "input": [
      "def inner_product(a, b):\n",
      "    \"\"\" Parameters :\n",
      "            a : 1-n array\u578b \n",
      "            b : 1-n array\u578b\n",
      "        Returns :\n",
      "            a, b \u304c\u3068\u3082\u306b1-n array\u578b\u306e\u3068\u304d\u3001\u5b9f\u6570\u3092\u8fd4\u3059\n",
      "        Raise :\n",
      "            ValueEroor: a or b \u304c1-n array\u578b\u3067\u306f\u306a\u3044\u3068\u304d\u3001ValueEroor\u306e\u4f8b\u5916\u3092\u767a\u751f\u3055\u305b\u308b\n",
      "    \"\"\"\n",
      "    # a, b \u306e\u578b\u30c1\u30a7\u30c3\u30af\n",
      "    if ...:\n",
      "        # \u5185\u7a4d\u8a08\u7b97 O(N)\n",
      "    else:\n",
      "        raise ValueError"
     ],
     "language": "python",
     "metadata": {},
     "outputs": []
    },
    {
     "cell_type": "code",
     "collapsed": false,
     "input": [
      "# \u4e0a\u8a18\u306e\u95a2\u6570\u3092\u8a66\u3057\u306b\u5b9f\u884c\u3057\u3066\u307f\u308b\n",
      "\n",
      "import numpy as np\n",
      "\n",
      "x = np.array([1,2,3])\n",
      "y = np.array([[1,2,3],[4,5,6]])\n",
      "\n",
      "print x.size, x.ndim\n"
     ],
     "language": "python",
     "metadata": {},
     "outputs": [
      {
       "output_type": "stream",
       "stream": "stdout",
       "text": [
        "3 1\n"
       ]
      }
     ],
     "prompt_number": 5
    },
    {
     "cell_type": "markdown",
     "metadata": {},
     "source": [
      "### \u6f14\u7fd2\u554f\u984c 2\n",
      "\n",
      "numpy \u306b\u306f\u5185\u7a4d\u3092\u8a08\u7b97\u3059\u308b\u30e1\u30bd\u30c3\u30c9\u304c\u5b9f\u88c5\u3055\u308c\u3066\u3044\u307e\u3059\u3002\u63a2\u3057\u3066\u307f\u307e\u3057\u3087\u3046\u3002\n",
      "\n",
      "\u305d\u3057\u3066\u3001\u4e0a\u8a18\u3067\u4f5c\u6210\u3057\u305f\u5185\u7a4d\u306e\u95a2\u6570\u3068\u3001numpy\u306e\u5185\u7a4d\u306e\u30e1\u30bd\u30c3\u30c9\u304c\u3001\u540c\u3058\u5165\u529b\u306b\u5bfe\u3057\u3066\u3001\u540c\u3058\u7d50\u679c\u3092\u8fd4\u3059\u304b\u3092\u30c6\u30b9\u30c8\u3057\u307e\u3057\u3087\u3046\u3002\n",
      "\n",
      "\u3044\u308f\u3086\u308b\u30c6\u30b9\u30c8\u30b3\u30fc\u30c9\u306e\u4f5c\u6210\u3067\u3059\u3002numpy \u306b\u306f\u30c6\u30b9\u30c8\u30b5\u30dd\u30fc\u30c8\u306e\u30e1\u30bd\u30c3\u30c9\u304c\u3042\u308a\u307e\u3059\u306e\u3067\u3001\u305d\u308c\u3092\u4f7f\u3044\u307e\u3057\u3087\u3046\u3002"
     ]
    },
    {
     "cell_type": "code",
     "collapsed": false,
     "input": [
      "# \u9069\u5f53\u306b\u30d9\u30af\u30c8\u30eb\u3092\u4e8c\u3064\u4f5c\u308b\n",
      "w = ...\n",
      "z = ...\n",
      "\n",
      "np.testing.assert_equal(inner_product(w,z), numpy\u306e\u5185\u7a4d(w,z)) # \u540c\u3058\u306a\u3089\u4f55\u3082\u8d77\u3053\u3089\u305a\u3001\u7570\u306a\u308b\u3068\u4f8b\u5916\u304c\u767a\u751f\u3057\u307e\u3059\u3002\u8a66\u3057\u3066\u307f\u3066"
     ],
     "language": "python",
     "metadata": {},
     "outputs": [],
     "prompt_number": 20
    },
    {
     "cell_type": "markdown",
     "metadata": {},
     "source": [
      "## \u7814\u7a76\u8ab2\u984c\n",
      "\n",
      "\u6642\u9593\u304c\u3042\u308b\u4eba\u5411\u3051\n",
      "\n",
      "- \u5185\u7a4d\u3092\u4f7f\u3063\u3066\u30d9\u30af\u30c8\u30eb\u306e\u5927\u304d\u3055\u3092\u5b9a\u7fa9\u3059\u308b\u3053\u3068\u304c\u3067\u304d\u307e\u3059\u3002\u3069\u306e\u3088\u3046\u306b\u5b9a\u7fa9\u3059\u308b\u3067\u3057\u3087\u3046\u304b?\n",
      "- \u5185\u7a4d\u3092\u4f7f\u3063\u30662\u6b21\u5143\u30d9\u30af\u30c8\u30eb\u9593\u306e\u89d2\u5ea6\u3092\u5b9a\u7fa9\u3059\u308b\u3053\u3068\u304c\u3067\u304d\u307e\u3059\u3002\u3069\u306e\u3088\u3046\u306b\u5b9a\u7fa9\u3059\u308b\u3067\u3057\u3087\u3046\u304b?\n",
      "- \u307e\u305f\u3001\u5185\u7a4d\u306e\u5024\u306b\u306f\u3001\u6b63\u8ca00\u3067\u305d\u308c\u305e\u308c\u610f\u5473\u304c\u7570\u306a\u308a\u307e\u3059\u3002\u3069\u306e\u3088\u3046\u306b\u7570\u306a\u308b\u3067\u3057\u3087\u3046\u304b?"
     ]
    },
    {
     "cell_type": "markdown",
     "metadata": {},
     "source": [
      "\u4ee5\u4e0a\u3067\u3053\u306e\u30c6\u30fc\u30de\u306e\u6f14\u7fd2\u306f\u7d42\u4e86\u3067\u3059\u3002\n",
      "\u304a\u75b2\u308c\u69d8\u3067\u3057\u305f\u3002\n"
     ]
    }
   ],
   "metadata": {}
  }
 ]
}