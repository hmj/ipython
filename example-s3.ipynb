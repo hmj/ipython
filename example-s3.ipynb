{
 "metadata": {
  "name": "",
  "signature": "sha256:7940c258bf52267bc26fb88fd14ae16ca4198151568abb9d4790cdb920f2d5f9"
 },
 "nbformat": 3,
 "nbformat_minor": 0,
 "worksheets": [
  {
   "cells": [
    {
     "cell_type": "markdown",
     "metadata": {},
     "source": [
      "# Amazon s3 \u3092\u64cd\u4f5c\u3059\u308b\n",
      "\n",
      "\u3044\u304f\u3064\u304b\u30cd\u30c3\u30c8\u4e0a\u306b\u30b5\u30f3\u30d7\u30eb\u30b3\u30fc\u30c9\u304c\u3042\u308a\u307e\u3059\u304c\u3001\n",
      "\u3053\u3053\u3067\u306f\u7c21\u5358\u306bS3\u306e\u30d0\u30b1\u30c3\u30c8\u306e\u5185\u5bb9\u53d6\u5f97\u3068\u3001\u7279\u5b9a\u30d0\u30b1\u30c3\u30c8\u3078\u306e\u30a2\u30c3\u30d7\u30ed\u30fc\u30c9\u3092\u3054\u7d39\u4ecb\u3057\u307e\u3059\u3002\n",
      "\n",
      "## S3 \u3068\u306f\n",
      "\n",
      "[S3\u3068\u306f](http://aws.amazon.com/jp/s3/)\n",
      "\n",
      "python\u306b\u3066AWS\u3092\u64cd\u4f5c\u3059\u308b\u30d7\u30ed\u30b0\u30e9\u30e0\u3092\u66f8\u304f\u5834\u5408\u306f\u3001boto\u3092\u4f7f\u3046\u3068\u7c21\u5358\u306b\u3067\u304d\u307e\u3059\u3002\n",
      "\n",
      "## S3 \u306e\u30d0\u30b1\u30c3\u30c8\u5185\u306e\u30aa\u30d6\u30b8\u30a7\u30af\u30c8\u306e\u4e00\u89a7\u3092\u53d6\u5f97\u3059\u308b"
     ]
    },
    {
     "cell_type": "code",
     "collapsed": false,
     "input": [
      "# boto \u306eimport\n",
      "from boto.s3.connection import S3Connection, Key\n",
      "\n",
      "aws_key_id = 'xxxxx' # \u30a2\u30af\u30bb\u30b9\u30ad\u30fc\n",
      "aws_secret_key = 'xxxxx' # \u30b7\u30fc\u30af\u30ec\u30c3\u30c8\u30ad\u30fc\n",
      "bucket_name = 'yyyy' # \u30d0\u30b1\u30c3\u30c8\u540d"
     ],
     "language": "python",
     "metadata": {},
     "outputs": []
    },
    {
     "cell_type": "code",
     "collapsed": false,
     "input": [
      "# S3\u306b\u30a2\u30af\u30bb\u30b9\u3057\u3066\u3001\u6307\u5b9a\u3055\u308c\u305f\u30d0\u30b1\u30c3\u30c8\u5185\u306e\u30aa\u30d6\u30b8\u30a7\u30af\u30c8\u4e00\u89a7\u3092\u53d6\u5f97\n",
      "\"\"\" \u6ce8:\u74b0\u5883\u5909\u6570\u3068\u3057\u3066AWS_ACCESS_KEY_ID\u3001AWS_SECRET_ACCESS_KEY\u3092\u3042\u3089\u304b\u3058\u3081\u30bb\u30c3\u30c8\u3057\u3066\u304a\u3051\u3070\u30d7\u30ed\u30b0\u30e9\u30e0\u4e2d\u306b\u30a2\u30af\u30bb\u30b9\u30ad\u30fc\u3001\u79d8\u5bc6\u30ad\u30fc\u3092\u8a18\u8ff0\u3059\u308b\u5fc5\u8981\u306f\u3042\u308a\u307e\u305b\u3093\u3002\n",
      "\"\"\"\n",
      "conn = S3Connection(aws_access_key_id = aws_key_id, aws_secret_access_key = aws_secret_key)\n",
      "\n",
      "bucket = conn.get_bucket(bucket_name)\n",
      "\n",
      "# bucket \u5185\u306e\u60c5\u5831\u3092\u53d6\u5f97\u3059\u308b\n",
      "for key in bucket:\n",
      "    \"\"\" name \u2013 The name of this Key object.\n",
      "        size \u2013 The size, in bytes, of the object.\n",
      "        last_modified \u2013 The string timestamp representing the last time this object was modified in S3.\n",
      "    \"\"\"\n",
      "    print(key.name, key.size, key.last_modified)\n",
      "\n",
      "conn.close()"
     ],
     "language": "python",
     "metadata": {},
     "outputs": []
    },
    {
     "cell_type": "markdown",
     "metadata": {},
     "source": [
      "## S3\u3078\u30d5\u30a1\u30a4\u30eb\u3092\u30a2\u30c3\u30d7\u30ed\u30fc\u30c9\u3059\u308b"
     ]
    },
    {
     "cell_type": "code",
     "collapsed": false,
     "input": [
      "\n",
      "bucket_name = 'yyyy' # \u4fdd\u5b58\u5148\u306e\u30d0\u30b1\u30c3\u30c8\u540d\u3092\u6307\u5b9a\u3057\u307e\u3059\n",
      "\n",
      "conn = S3Connection(aws_access_key_id = aws_key_id, aws_secret_access_key = aws_secret_key)\n",
      "bucket = conn.get_bucket(bucket_name)\n",
      "\n",
      "# \u30ad\u30fc\u3092\u4f5c\u6210\u3057\u3001\u30aa\u30d6\u30b8\u30a7\u30af\u30c8\u306eS3\u4e0a\u3067\u306e\u540d\u524d\u3092\u6c7a\u3081\u307e\u3059\n",
      "f = Key(bucket)\n",
      "f.key = 'key_name'\n",
      "\n",
      "# S3\u306b\u7f6e\u304d\u305f\u3044\u30d5\u30a1\u30a4\u30eb\u540d\u3092\u6307\u5b9a\u3057\u3066\u4fdd\u5b58\u3059\u308b\n",
      "f.set_contents_from_filename('filename')\n",
      "\n",
      "conn.close()"
     ],
     "language": "python",
     "metadata": {},
     "outputs": []
    }
   ],
   "metadata": {}
  }
 ]
}