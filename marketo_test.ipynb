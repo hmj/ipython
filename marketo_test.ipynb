{
 "metadata": {
  "name": "",
  "signature": "sha256:e6c34a2a768899c720712416614fc12a1bfaf8f127febc8ee3b4f490e16ca128"
 },
 "nbformat": 3,
 "nbformat_minor": 0,
 "worksheets": [
  {
   "cells": [
    {
     "cell_type": "code",
     "collapsed": false,
     "input": [
      "!python -V"
     ],
     "language": "python",
     "metadata": {},
     "outputs": [
      {
       "output_type": "stream",
       "stream": "stdout",
       "text": [
        "Python 3.4.3 :: Anaconda 2.1.0 (x86_64)\r\n"
       ]
      }
     ],
     "prompt_number": 1
    },
    {
     "cell_type": "code",
     "collapsed": false,
     "input": [
      "import requests"
     ],
     "language": "python",
     "metadata": {},
     "outputs": [],
     "prompt_number": 2
    },
    {
     "cell_type": "code",
     "collapsed": false,
     "input": [
      "def authenticate():\n",
      "    url = 'https://AAA-BBB-CCC.mktorest.com/identity/oauth/token' \n",
      "    payload = {\n",
      "        'grant_type':'client_credentials',\n",
      "        'client_id':'client_id',\n",
      "        'client_secret':'client_secret'\n",
      "    }\n",
      "\n",
      "    r = requests.get(url, payload)\n",
      "    res = r.json()\n",
      "    return res.get('access_token', '')\n"
     ],
     "language": "python",
     "metadata": {},
     "outputs": [],
     "prompt_number": 3
    },
    {
     "cell_type": "code",
     "collapsed": false,
     "input": [
      "access_token = authenticate()"
     ],
     "language": "python",
     "metadata": {},
     "outputs": [],
     "prompt_number": 7
    },
    {
     "cell_type": "code",
     "collapsed": false,
     "input": [
      "# http://developers.marketo.com/documentation/rest/get-activity-types/\n",
      "payload = { 'access_token': access_token}\n",
      "\n",
      "endpoint = 'https://130-NGS-498.mktorest.com'\n",
      "rest_url = '/rest/v1/activities/types.json'\n",
      "url = endpoint + rest_url\n",
      "r = requests.get(url, payload)\n"
     ],
     "language": "python",
     "metadata": {},
     "outputs": [],
     "prompt_number": 11
    }
   ],
   "metadata": {}
  }
 ]
}